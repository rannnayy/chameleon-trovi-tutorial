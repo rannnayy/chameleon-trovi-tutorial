{
 "cells": [
  {
   "cell_type": "markdown",
   "metadata": {},
   "source": [
    "# Chameleon Trovi SSH Tutorial\n",
    "### Using Jupyter Interface"
   ]
  },
  {
   "cell_type": "markdown",
   "metadata": {},
   "source": [
    "#### Chameleon Trovi can't accept ssh like linux shell normally. Each of the cells run inside the jupyter notebook will: open the connection, then close it again when a cell is done running. Hence, in each of the cells, we need to run ssh. These are the three ways to do ssh in Chameleon Trovi that I discovered\n",
    "#### Last update: 25 August 2022"
   ]
  },
  {
   "cell_type": "markdown",
   "metadata": {},
   "source": [
    "#### First of all, you need to define the ip address, here I use variable fip_addr"
   ]
  },
  {
   "cell_type": "code",
   "execution_count": null,
   "metadata": {},
   "outputs": [],
   "source": [
    "export fip_addr=\"192.5.86.149\""
   ]
  },
  {
   "cell_type": "markdown",
   "metadata": {},
   "source": [
    "## 1. Using helper function (only for 1 line of command at a time)"
   ]
  },
  {
   "cell_type": "code",
   "execution_count": null,
   "metadata": {},
   "outputs": [],
   "source": [
    "# This will do the job but only 1 commands per \"server ...\"\n",
    "# Create a helper function to run commands remotely\n",
    "server() {\n",
    "  quoted=\"$(printf \"%q \" \"$@\")\"\n",
    "  ssh cc@\"$fip_addr\" bash -c \"'$quoted'\"\n",
    "}\n",
    "export -f server"
   ]
  },
  {
   "cell_type": "markdown",
   "metadata": {},
   "source": [
    "#### Example of how to use the server() function"
   ]
  },
  {
   "cell_type": "code",
   "execution_count": null,
   "metadata": {},
   "outputs": [],
   "source": [
    "server cat /etc/os-release # Check if ssh success\n",
    "server sudo yum update -y\n",
    "server sudo mkdir -p /mnt/extra\n",
    "server sudo chown -R cc /mnt/extra\n",
    "server stat -c \"%U %G\" /mnt/extra # Check if chown successfull"
   ]
  },
  {
   "cell_type": "markdown",
   "metadata": {},
   "source": [
    "## 2. Using ssh directly"
   ]
  },
  {
   "cell_type": "code",
   "execution_count": null,
   "metadata": {},
   "outputs": [],
   "source": [
    "ssh cc@\"$fip_addr\" \\\n",
    "    \"realpath . && ls\""
   ]
  },
  {
   "cell_type": "markdown",
   "metadata": {},
   "source": [
    "## 3. Using eval"
   ]
  },
  {
   "cell_type": "markdown",
   "metadata": {},
   "source": [
    "#### Assuming that I have a SSH public key named ```rani-trovi-ceph```, saved at SSHKEY_FILE directory"
   ]
  },
  {
   "cell_type": "code",
   "execution_count": null,
   "metadata": {},
   "outputs": [],
   "source": [
    "export SSHKEY_FILE=\"$HOME/.ssh/rani-trovi-ceph\""
   ]
  },
  {
   "cell_type": "markdown",
   "metadata": {},
   "source": [
    "login_command=\"ssh -o \\\"StrictHostKeyChecking no\\\" -i $SSHKEY_FILE cc@$fip_addr\"\n",
    "eval \"$login_command\" pwd"
   ]
  },
  {
   "cell_type": "markdown",
   "metadata": {},
   "source": [
    "#### Example of how to use eval command"
   ]
  },
  {
   "cell_type": "code",
   "execution_count": null,
   "metadata": {},
   "outputs": [],
   "source": [
    "eval \"$login_command\" /bin/bash << EOF\n",
    "    pwd\n",
    "    ls\n",
    "EOF"
   ]
  }
 ],
 "metadata": {
  "language_info": {
   "name": "python"
  },
  "orig_nbformat": 4
 },
 "nbformat": 4,
 "nbformat_minor": 2
}
